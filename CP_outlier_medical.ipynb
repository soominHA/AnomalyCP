{
 "cells": [
  {
   "cell_type": "code",
   "execution_count": 4,
   "metadata": {},
   "outputs": [],
   "source": [
    "import numpy as np\n",
    "import matplotlib.pyplot as plt\n",
    "from matplotlib.image import imread\n",
    "\n",
    "import AnomalyCLIP_lib\n",
    "import torch\n",
    "import argparse\n",
    "import torch.nn.functional as F\n",
    "from prompt_ensemble import AnomalyCLIP_PromptLearner\n",
    "from dataset import Dataset\n",
    "from logger import get_logger\n",
    "from tqdm import tqdm\n",
    "from sklearn.metrics import  precision_score, recall_score\n",
    "\n",
    "import random\n",
    "# from tabulate import tabulate\n",
    "from utils import get_transform\n",
    "\n",
    "def setup_seed(seed):\n",
    "    torch.manual_seed(seed)\n",
    "    torch.cuda.manual_seed_all(seed)\n",
    "    np.random.seed(seed)\n",
    "    random.seed(seed)\n",
    "    torch.backends.cudnn.deterministic = True\n",
    "    torch.backends.cudnn.benchmark = False\n",
    "\n",
    "\n",
    "from tqdm import tqdm\n",
    "from scipy.ndimage import gaussian_filter"
   ]
  },
  {
   "cell_type": "code",
   "execution_count": 5,
   "metadata": {},
   "outputs": [],
   "source": [
    "parser = argparse.ArgumentParser(\"AnomalyCLIP\", add_help=True)\n",
    "# paths\n",
    "parser.add_argument(\"--data_path\", type=str, default=\"./data/medical\", help=\"path to test dataset\")\n",
    "parser.add_argument(\"--save_path\", type=str, default='./results/CP/medical_outlier', help='path to save results')\n",
    "parser.add_argument(\"--checkpoint_path\", type=str, default='./train_results/0821_medical/epoch_15.pth', help='path to checkpoint')\n",
    "# model\n",
    "parser.add_argument(\"--dataset\", type=str, default='medical')\n",
    "parser.add_argument(\"--features_list\", type=int, nargs=\"+\", default=[6, 12, 18, 24], help=\"features used\")\n",
    "parser.add_argument(\"--image_size\", type=int, default=518, help=\"image size\")\n",
    "parser.add_argument(\"--depth\", type=int, default=9, help=\"image size\")\n",
    "parser.add_argument(\"--n_ctx\", type=int, default=12, help=\"zero shot\")\n",
    "parser.add_argument(\"--t_n_ctx\", type=int, default=4, help=\"zero shot\")\n",
    "parser.add_argument(\"--feature_map_layer\", type=int,  nargs=\"+\", default=[0, 1, 2, 3], help=\"zero shot\")\n",
    "parser.add_argument(\"--metrics\", type=str, default='image-pixel-level')\n",
    "parser.add_argument(\"--seed\", type=int, default=111, help=\"random seed\")\n",
    "parser.add_argument(\"--sigma\", type=int, default=4, help=\"zero shot\")\n",
    "\n",
    "args = parser.parse_args(args=[])\n",
    "\n",
    "AnomalyCLIP_parameters = {\"Prompt_length\": args.n_ctx, \"learnabel_text_embedding_depth\": args.depth, \"learnabel_text_embedding_length\": args.t_n_ctx}"
   ]
  },
  {
   "cell_type": "code",
   "execution_count": 6,
   "metadata": {},
   "outputs": [
    {
     "name": "stdout",
     "output_type": "stream",
     "text": [
      "device ===> cuda\n"
     ]
    }
   ],
   "source": [
    "logger = get_logger(args.save_path)\n",
    "device = \"cuda\" if torch.cuda.is_available() else \"cpu\"\n",
    "print(f'device ===> {device}')"
   ]
  },
  {
   "cell_type": "markdown",
   "metadata": {},
   "source": [
    "# Train data"
   ]
  },
  {
   "cell_type": "code",
   "execution_count": 7,
   "metadata": {},
   "outputs": [
    {
     "name": "stdout",
     "output_type": "stream",
     "text": [
      "name ViT-L/14@336px\n",
      "text_layer False\n",
      "text_layer True\n",
      " \n",
      " ********************** train ********************** \n",
      "\n",
      "obj_list ===> ['colon']\n",
      "\n",
      "embedding_pos torch.Size([1, 77, 768])\n",
      "tokenized_prompts shape torch.Size([1, 1, 77]) torch.Size([1, 1, 77])\n"
     ]
    },
    {
     "name": "stderr",
     "output_type": "stream",
     "text": [
      "c:\\Users\\dmkwo\\anaconda3\\envs\\drct\\lib\\site-packages\\torch\\nn\\functional.py:5476: UserWarning: 1Torch was not compiled with flash attention. (Triggered internally at C:\\cb\\pytorch_1000000000000\\work\\aten\\src\\ATen\\native\\transformers\\cuda\\sdp_utils.cpp:263.)\n",
      "  attn_output = scaled_dot_product_attention(q, k, v, attn_mask, dropout_p, is_causal)\n",
      "100%|██████████| 1106/1106 [06:42<00:00,  2.75it/s]\n"
     ]
    }
   ],
   "source": [
    "model, _ = AnomalyCLIP_lib.load(\"ViT-L/14@336px\", device=device, design_details = AnomalyCLIP_parameters)\n",
    "model.eval()\n",
    "\n",
    "preprocess, target_transform = get_transform(args)\n",
    "train_data = Dataset(root=args.data_path, transform=preprocess, target_transform=target_transform, dataset_name = args.dataset, mode='train')\n",
    "train_dataloader = torch.utils.data.DataLoader(train_data, batch_size=1, shuffle=False)\n",
    "obj_list = train_data.obj_list\n",
    "print(f'obj_list ===> {obj_list}\\n')\n",
    "\n",
    "train_results = {}\n",
    "train_metrics = {}\n",
    "for obj in obj_list:\n",
    "    train_results[obj] = {}\n",
    "    train_results[obj]['gt_sp'] = []\n",
    "    train_results[obj]['pr_sp'] = []\n",
    "    train_results[obj]['pr_sp_n'] = []\n",
    "    train_results[obj]['imgs_masks'] = []\n",
    "    train_results[obj]['anomaly_maps'] = []\n",
    "    train_metrics[obj] = {}\n",
    "    train_metrics[obj]['pixel-auroc'] = 0\n",
    "    train_metrics[obj]['pixel-aupro'] = 0\n",
    "    train_metrics[obj]['image-auroc'] = 0\n",
    "    train_metrics[obj]['image-ap'] = 0\n",
    "\n",
    "prompt_learner = AnomalyCLIP_PromptLearner(model.to(\"cpu\"), AnomalyCLIP_parameters)\n",
    "checkpoint = torch.load(args.checkpoint_path)\n",
    "prompt_learner.load_state_dict(checkpoint[\"prompt_learner\"])\n",
    "prompt_learner.to(device)\n",
    "model.to(device)\n",
    "model.visual.DAPM_replace(DPAM_layer = 20)\n",
    "\n",
    "prompts, tokenized_prompts, compound_prompts_text = prompt_learner(cls_id = None)\n",
    "\n",
    "text_features = model.encode_text_learn(prompts, tokenized_prompts, compound_prompts_text).float()\n",
    "text_features = torch.stack(torch.chunk(text_features, dim = 0, chunks = 2), dim = 1)\n",
    "text_features = text_features/text_features.norm(dim=-1, keepdim=True)\n",
    "# print(text_features)\n",
    "\n",
    "model.to(device)\n",
    "features_list = args.features_list\n",
    "\n",
    "for idx, items in enumerate(tqdm(train_dataloader)):\n",
    "    \n",
    "    image = items['img'].to(device)\n",
    "    cls_name = items['cls_name']\n",
    "    cls_id = items['cls_id']\n",
    "    gt_mask = items['img_mask']\n",
    "    gt_mask[gt_mask > 0.5], gt_mask[gt_mask <= 0.5] = 1, 0\n",
    "    train_results[cls_name[0]]['imgs_masks'].append(gt_mask)  # px\n",
    "    train_results[cls_name[0]]['gt_sp'].extend(items['anomaly'].detach().cpu())\n",
    "\n",
    "    with torch.no_grad():\n",
    "        image_features, patch_features = model.encode_image(image, features_list, DPAM_layer = 20)\n",
    "        image_features = image_features / image_features.norm(dim=-1, keepdim=True)\n",
    "\n",
    "        text_probs = image_features @ text_features.permute(0, 2, 1)\n",
    "        text_probs = (text_probs/0.07).softmax(-1)\n",
    "        text_probs_a = text_probs[:, 0, 1]\n",
    "        text_probs_n = text_probs[:, 0, 0]\n",
    "        anomaly_map_list = []\n",
    "        for idx, patch_feature in enumerate(patch_features):\n",
    "            if idx >= args.feature_map_layer[0]:\n",
    "                patch_feature = patch_feature/ patch_feature.norm(dim = -1, keepdim = True)\n",
    "                similarity, _ = AnomalyCLIP_lib.compute_similarity(patch_feature, text_features[0])\n",
    "                similarity_map = AnomalyCLIP_lib.get_similarity_map(similarity[:, 1:, :], args.image_size)\n",
    "                anomaly_map = (similarity_map[...,1] + 1 - similarity_map[...,0])/2.0\n",
    "                anomaly_map_list.append(anomaly_map)\n",
    "\n",
    "        anomaly_map = torch.stack(anomaly_map_list)\n",
    "        \n",
    "        anomaly_map = anomaly_map.sum(dim = 0)\n",
    "        train_results[cls_name[0]]['pr_sp'].extend(text_probs_a.detach().cpu()) # image-abnormal\n",
    "        train_results[cls_name[0]]['pr_sp_n'].extend(text_probs_n.detach().cpu()) # image-normal\n",
    "        anomaly_map = torch.stack([torch.from_numpy(gaussian_filter(i, sigma = args.sigma)) for i in anomaly_map.detach().cpu()], dim = 0 )\n",
    "        train_results[cls_name[0]]['anomaly_maps'].append(anomaly_map)"
   ]
  },
  {
   "cell_type": "markdown",
   "metadata": {},
   "source": [
    "# Test data"
   ]
  },
  {
   "cell_type": "code",
   "execution_count": 8,
   "metadata": {},
   "outputs": [
    {
     "name": "stdout",
     "output_type": "stream",
     "text": [
      "name ViT-L/14@336px\n",
      "text_layer False\n",
      "text_layer True\n",
      " \n",
      " ********************** test ********************** \n",
      "\n",
      "embedding_pos torch.Size([1, 77, 768])\n",
      "tokenized_prompts shape torch.Size([1, 1, 77]) torch.Size([1, 1, 77])\n"
     ]
    },
    {
     "name": "stderr",
     "output_type": "stream",
     "text": [
      "100%|██████████| 2006/2006 [30:24<00:00,  1.10it/s]\n"
     ]
    }
   ],
   "source": [
    "model, _ = AnomalyCLIP_lib.load(\"ViT-L/14@336px\", device=device, design_details = AnomalyCLIP_parameters)\n",
    "model.eval()\n",
    "\n",
    "preprocess, target_transform = get_transform(args)\n",
    "test_data = Dataset(root=args.data_path, transform=preprocess, target_transform=target_transform, dataset_name = args.dataset)\n",
    "test_dataloader = torch.utils.data.DataLoader(test_data, batch_size=1, shuffle=False)\n",
    "obj_list = test_data.obj_list\n",
    "\n",
    "test_results = {}\n",
    "test_metrics = {}\n",
    "for obj in obj_list:\n",
    "    test_results[obj] = {}\n",
    "    test_results[obj]['gt_sp'] = []\n",
    "    test_results[obj]['pr_sp'] = []\n",
    "    test_results[obj]['pr_sp_n'] = []\n",
    "    test_results[obj]['imgs_masks'] = []\n",
    "    test_results[obj]['anomaly_maps'] = []\n",
    "    test_metrics[obj] = {}\n",
    "    test_metrics[obj]['pixel-auroc'] = 0\n",
    "    test_metrics[obj]['pixel-aupro'] = 0\n",
    "    test_metrics[obj]['image-auroc'] = 0\n",
    "    test_metrics[obj]['image-ap'] = 0\n",
    "\n",
    "prompt_learner = AnomalyCLIP_PromptLearner(model.to(\"cpu\"), AnomalyCLIP_parameters)\n",
    "checkpoint = torch.load(args.checkpoint_path)\n",
    "prompt_learner.load_state_dict(checkpoint[\"prompt_learner\"])\n",
    "prompt_learner.to(device)\n",
    "model.to(device)\n",
    "model.visual.DAPM_replace(DPAM_layer = 20)\n",
    "\n",
    "prompts, tokenized_prompts, compound_prompts_text = prompt_learner(cls_id = None)\n",
    "\n",
    "text_features = model.encode_text_learn(prompts, tokenized_prompts, compound_prompts_text).float()\n",
    "text_features = torch.stack(torch.chunk(text_features, dim = 0, chunks = 2), dim = 1)\n",
    "text_features = text_features/text_features.norm(dim=-1, keepdim=True)\n",
    "# print(text_features)\n",
    "\n",
    "model.to(device)\n",
    "features_list = args.features_list\n",
    "\n",
    "for idx, items in enumerate(tqdm(test_dataloader)):\n",
    "    \n",
    "    image = items['img'].to(device)\n",
    "    cls_name = items['cls_name']\n",
    "    cls_id = items['cls_id']\n",
    "    gt_mask = items['img_mask']\n",
    "    gt_mask[gt_mask > 0.5], gt_mask[gt_mask <= 0.5] = 1, 0\n",
    "    test_results[cls_name[0]]['imgs_masks'].append(gt_mask)  # px\n",
    "    test_results[cls_name[0]]['gt_sp'].extend(items['anomaly'].detach().cpu())\n",
    "\n",
    "    with torch.no_grad():\n",
    "        image_features, patch_features = model.encode_image(image, features_list, DPAM_layer = 20)\n",
    "        image_features = image_features / image_features.norm(dim=-1, keepdim=True)\n",
    "\n",
    "        text_probs = image_features @ text_features.permute(0, 2, 1)\n",
    "        text_probs = (text_probs/0.07).softmax(-1)\n",
    "        text_probs_a = text_probs[:, 0, 1]\n",
    "        text_probs_n = text_probs[:, 0, 0]\n",
    "        anomaly_map_list = []\n",
    "        for idx, patch_feature in enumerate(patch_features):\n",
    "            if idx >= args.feature_map_layer[0]:\n",
    "                patch_feature = patch_feature/ patch_feature.norm(dim = -1, keepdim = True)\n",
    "                similarity, _ = AnomalyCLIP_lib.compute_similarity(patch_feature, text_features[0])\n",
    "                similarity_map = AnomalyCLIP_lib.get_similarity_map(similarity[:, 1:, :], args.image_size)\n",
    "                anomaly_map = (similarity_map[...,1] + 1 - similarity_map[...,0])/2.0\n",
    "                anomaly_map_list.append(anomaly_map)\n",
    "\n",
    "        anomaly_map = torch.stack(anomaly_map_list)\n",
    "        \n",
    "        anomaly_map = anomaly_map.sum(dim = 0)\n",
    "        test_results[cls_name[0]]['pr_sp'].extend(text_probs_a.detach().cpu()) # image-abnormal\n",
    "        test_results[cls_name[0]]['pr_sp_n'].extend(text_probs_n.detach().cpu()) # image-normal\n",
    "        anomaly_map = torch.stack([torch.from_numpy(gaussian_filter(i, sigma = args.sigma)) for i in anomaly_map.detach().cpu()], dim = 0 )\n",
    "        test_results[cls_name[0]]['anomaly_maps'].append(anomaly_map)"
   ]
  },
  {
   "cell_type": "markdown",
   "metadata": {},
   "source": [
    "# 1. Train dataset 에서 q_hat 구하기"
   ]
  },
  {
   "cell_type": "markdown",
   "metadata": {},
   "source": [
    "##### train 데이터에 abnormal 이 있는 경우"
   ]
  },
  {
   "cell_type": "code",
   "execution_count": 9,
   "metadata": {},
   "outputs": [
    {
     "name": "stdout",
     "output_type": "stream",
     "text": [
      "1106 2006 2006\n",
      "train_qhat: 0.9920667409896851 \n",
      "precision: 1.0 \n",
      "recall: 0.1759\n"
     ]
    }
   ],
   "source": [
    "scores = []\n",
    "y_true = []\n",
    "y_score_list = []\n",
    "for obj in obj_list:\n",
    "    scores += (train_results[obj]['pr_sp'])\n",
    "    y_true += (test_results[obj]['gt_sp'])\n",
    "    y_score_list += (test_results[obj]['pr_sp'] )\n",
    "\n",
    "print(len(scores), len(y_true), len(y_score_list), end='\\n')\n",
    "\n",
    "\n",
    "for obj in obj_list:\n",
    "    n = len(scores)\n",
    "    alpha = 0.1\n",
    "\n",
    "    q_level = np.ceil((n+1)*(1-alpha))/n \n",
    "    train_qhat = np.quantile(scores, q_level, method='higher')\n",
    "\n",
    "    y_true = np.array(y_true)\n",
    "    y_score_list = np.array(y_score_list)\n",
    "    y_scores = (y_score_list > train_qhat)\n",
    "\n",
    "    p = precision_score(y_true, y_scores)\n",
    "    r = recall_score(y_true, y_scores)\n",
    "\n",
    "print(f'train_qhat: {train_qhat} \\nprecision: {round(p, 4)} \\nrecall: {round(r, 4)}')"
   ]
  },
  {
   "cell_type": "markdown",
   "metadata": {},
   "source": [
    "##### train 데이터에 abnormal 이 없는 경우"
   ]
  },
  {
   "cell_type": "code",
   "execution_count": 10,
   "metadata": {},
   "outputs": [
    {
     "name": "stdout",
     "output_type": "stream",
     "text": [
      "500\n"
     ]
    }
   ],
   "source": [
    "s = []\n",
    "for obj in obj_list:\n",
    "    for t in train_results[obj]['gt_sp']:\n",
    "        s.append(t.item())\n",
    "s = np.array(s)\n",
    "normal_idx = np.where(s==0)[0]\n",
    "print(len(normal_idx))"
   ]
  },
  {
   "cell_type": "code",
   "execution_count": 11,
   "metadata": {},
   "outputs": [
    {
     "name": "stdout",
     "output_type": "stream",
     "text": [
      "500 2006 2006\n",
      "train_qhat: 0.16499072313308716 \n",
      "precision: 0.8942 \n",
      "recall: 1.0\n"
     ]
    }
   ],
   "source": [
    "scores = []\n",
    "y_true = []\n",
    "y_score_list = []\n",
    "\n",
    "for obj in obj_list:\n",
    "    scores += (train_results[obj]['pr_sp'])\n",
    "    y_true += (test_results[obj]['gt_sp'])\n",
    "    y_score_list += (test_results[obj]['pr_sp'] )\n",
    "scores = np.array(scores)[normal_idx]\n",
    "print(len(scores), len(y_true), len(y_score_list), end='\\n')\n",
    "\n",
    "alpha = 0.1\n",
    "for obj in obj_list:\n",
    "    n = len(scores)\n",
    "    alpha = 0.1\n",
    "\n",
    "    q_level = np.ceil((n+1)*(1-alpha))/n \n",
    "    train_qhat_wo_n = np.quantile(scores, q_level, method='higher')\n",
    "\n",
    "    y_true = np.array(y_true)\n",
    "    y_score_list = np.array(y_score_list)\n",
    "    y_scores = (y_score_list > train_qhat_wo_n)\n",
    "\n",
    "    p = precision_score(y_true, y_scores)\n",
    "    r = recall_score(y_true, y_scores)\n",
    "\n",
    "print(f'train_qhat: {train_qhat_wo_n} \\nprecision: {round(p, 4)} \\nrecall: {round(r, 4)}')"
   ]
  },
  {
   "cell_type": "markdown",
   "metadata": {},
   "source": [
    "# 2. calibration (noraml)"
   ]
  },
  {
   "cell_type": "code",
   "execution_count": 12,
   "metadata": {},
   "outputs": [
    {
     "name": "stdout",
     "output_type": "stream",
     "text": [
      "정상 개수 ===> 1000 \n",
      "전체개수 ===> 2006 \n",
      "\n"
     ]
    }
   ],
   "source": [
    "y_true = []\n",
    "y_score_list = []\n",
    "for obj in obj_list:\n",
    "    y_true += (test_results[obj]['gt_sp'])\n",
    "    y_score_list += (test_results[obj]['pr_sp'] )\n",
    "\n",
    "y_true_np = np.array([t.item() for t in y_true])\n",
    "count = len(np.where(y_true_np == 0)[0])\n",
    "\n",
    "y_all = sorted(list(zip(y_true, y_score_list)))\n",
    "\n",
    "print(f'정상 개수 ===> {count} \\n전체개수 ===> {len(y_all)} \\n')"
   ]
  },
  {
   "cell_type": "code",
   "execution_count": 13,
   "metadata": {},
   "outputs": [
    {
     "name": "stdout",
     "output_type": "stream",
     "text": [
      "---10---\n",
      "q_hat 개수 990\n",
      "p_list 990\n",
      "precision: 0.696 \n",
      "recall: 0.9999\n",
      "\n",
      "\n",
      "---15---\n",
      "q_hat 개수 1975\n",
      "p_list 985\n",
      "precision: 0.697 \n",
      "recall: 0.9999\n",
      "\n",
      "\n",
      "---20---\n",
      "q_hat 개수 2955\n",
      "p_list 980\n",
      "precision: 0.6979 \n",
      "recall: 0.9999\n",
      "\n",
      "\n",
      "---25---\n",
      "q_hat 개수 3930\n",
      "p_list 975\n",
      "precision: 0.6989 \n",
      "recall: 0.9999\n",
      "\n",
      "\n",
      "---30---\n",
      "q_hat 개수 4900\n",
      "p_list 970\n",
      "precision: 0.6999 \n",
      "recall: 0.9999\n",
      "\n",
      "\n",
      "---35---\n",
      "q_hat 개수 5865\n",
      "p_list 965\n",
      "precision: 0.7009 \n",
      "recall: 0.9999\n",
      "\n",
      "\n",
      "---40---\n",
      "q_hat 개수 6825\n",
      "p_list 960\n",
      "precision: 0.7019 \n",
      "recall: 0.9999\n",
      "\n",
      "\n",
      "---45---\n",
      "q_hat 개수 7780\n",
      "p_list 955\n",
      "precision: 0.7029 \n",
      "recall: 0.9999\n",
      "\n",
      "\n",
      "---50---\n",
      "q_hat 개수 8730\n",
      "p_list 950\n",
      "precision: 0.7039 \n",
      "recall: 0.9999\n",
      "\n",
      "\n",
      "---55---\n",
      "q_hat 개수 9675\n",
      "p_list 945\n",
      "precision: 0.7049 \n",
      "recall: 0.9999\n",
      "\n",
      "\n"
     ]
    }
   ],
   "source": [
    "normal_all_qhat = []\n",
    "alpha = 0.1\n",
    "\n",
    "for n in range(10, 60, 5):\n",
    "    p_list = []\n",
    "    r_list = []\n",
    "    for i in range(count-n):\n",
    "        score_list = np.array(y_all[i:i + n])[:, 1]\n",
    "        \n",
    "        y_pred_list = np.array(y_all[:i] + y_all[i + n:])[:, 1]\n",
    "        y_label = np.array(y_all[:i] + y_all[i + n:])[:, 0]\n",
    "\n",
    "        q_level = np.ceil((n+1)*(1-alpha))/n \n",
    "        qhat = np.quantile(score_list, q_level, method='higher')\n",
    "        normal_all_qhat.append(qhat)\n",
    "        \n",
    "        y_pred = y_pred_list > qhat\n",
    "        p = precision_score(y_label, y_pred)\n",
    "        p_list.append(p)\n",
    "\n",
    "\n",
    "        r = recall_score(y_label, y_pred)\n",
    "        r_list.append(r)\n",
    "    print(f'---{n}---')\n",
    "    # print(f'score_list\\n{len(score_list)}\\n')\n",
    "    print('q_hat 개수', len(normal_all_qhat))\n",
    "    print('p_list', len(p_list))\n",
    "    # print('y_true', len(y_true))\n",
    "    print(f'precision: {round(sum(p_list)/len(p_list), 4)} \\nrecall: {round(sum(r_list)/len(r_list), 4)}\\n\\n')"
   ]
  },
  {
   "cell_type": "markdown",
   "metadata": {},
   "source": [
    "# 3. calibration (all)"
   ]
  },
  {
   "cell_type": "code",
   "execution_count": 14,
   "metadata": {},
   "outputs": [
    {
     "name": "stdout",
     "output_type": "stream",
     "text": [
      "정상 개수 ===> 1000 \n",
      "전체개수 ===> 2006 \n",
      "\n"
     ]
    }
   ],
   "source": [
    "y_true = []\n",
    "y_score_list = []\n",
    "for obj in obj_list:\n",
    "    y_true += (test_results[obj]['gt_sp'])\n",
    "    y_score_list += (test_results[obj]['pr_sp'] )\n",
    "\n",
    "y_true_np = np.array([t.item() for t in y_true])\n",
    "count = len(np.where(y_true_np == 0)[0])\n",
    "\n",
    "y_all = list(zip(y_true, y_score_list))\n",
    "\n",
    "print(f'정상 개수 ===> {count} \\n전체개수 ===> {len(y_all)} \\n')"
   ]
  },
  {
   "cell_type": "code",
   "execution_count": 15,
   "metadata": {},
   "outputs": [
    {
     "name": "stdout",
     "output_type": "stream",
     "text": [
      "---10---\n",
      "q_hat 개수 1996\n",
      "precision: 0.953 \n",
      "recall: 0.5554\n",
      "\n",
      "\n",
      "---15---\n",
      "q_hat 개수 3987\n",
      "precision: 0.9627 \n",
      "recall: 0.5393\n",
      "\n",
      "\n",
      "---20---\n",
      "q_hat 개수 5973\n",
      "precision: 0.9676 \n",
      "recall: 0.5286\n",
      "\n",
      "\n",
      "---25---\n",
      "q_hat 개수 7954\n",
      "precision: 0.97 \n",
      "recall: 0.5201\n",
      "\n",
      "\n",
      "---30---\n",
      "q_hat 개수 9930\n",
      "precision: 0.9719 \n",
      "recall: 0.5351\n",
      "\n",
      "\n",
      "---35---\n",
      "q_hat 개수 11901\n",
      "precision: 0.9755 \n",
      "recall: 0.5282\n",
      "\n",
      "\n",
      "---40---\n",
      "q_hat 개수 13867\n",
      "precision: 0.9697 \n",
      "recall: 0.5377\n",
      "\n",
      "\n",
      "---45---\n",
      "q_hat 개수 15828\n",
      "precision: 0.9729 \n",
      "recall: 0.5324\n",
      "\n",
      "\n",
      "---50---\n",
      "q_hat 개수 17784\n",
      "precision: 0.9673 \n",
      "recall: 0.5379\n",
      "\n",
      "\n",
      "---55---\n",
      "q_hat 개수 19735\n",
      "precision: 0.9702 \n",
      "recall: 0.534\n",
      "\n",
      "\n"
     ]
    }
   ],
   "source": [
    "all_all_qhat = []\n",
    "alpha = 0.1\n",
    "\n",
    "for n in range(10, 60, 5):\n",
    "    p_list = []\n",
    "    r_list = []\n",
    "    for i in range(len(y_all)-n):\n",
    "        score_list = np.array(y_all[i:i + n])[:, 1]\n",
    "        \n",
    "        y_pred_list = np.array(y_all[:i] + y_all[i + n:])[:, 1]\n",
    "        y_label = np.array(y_all[:i] + y_all[i + n:])[:, 0]\n",
    "\n",
    "        q_level = np.ceil((n+1)*(1-alpha))/n \n",
    "        qhat = np.quantile(score_list, q_level, method='higher')\n",
    "        all_all_qhat.append(qhat)\n",
    "        \n",
    "        y_pred = y_pred_list > qhat\n",
    "        p = precision_score(y_label, y_pred, zero_division=0)\n",
    "        p_list.append(p)\n",
    "\n",
    "\n",
    "        r = recall_score(y_label, y_pred, zero_division=0)\n",
    "        r_list.append(r)\n",
    "    print(f'---{n}---')\n",
    "    # print(f'score_list\\n{len(score_list)}\\n')\n",
    "    print('q_hat 개수', len(all_all_qhat))\n",
    "    # print('p_list', len(p_list))\n",
    "    # print('y_true', len(y_true))\n",
    "    print(f'precision: {round(sum(p_list)/len(p_list), 4)} \\nrecall: {round(sum(r_list)/len(r_list), 4)}\\n\\n')"
   ]
  },
  {
   "cell_type": "markdown",
   "metadata": {},
   "source": [
    "# 4. Plot"
   ]
  },
  {
   "cell_type": "markdown",
   "metadata": {},
   "source": [
    "##### (1) Score"
   ]
  },
  {
   "cell_type": "code",
   "execution_count": 16,
   "metadata": {},
   "outputs": [
    {
     "data": {
      "image/png": "[encoded data removed]",
      "text/plain": [
       "<Figure size 500x500 with 1 Axes>"
      ]
     },
     "metadata": {},
     "output_type": "display_data"
    }
   ],
   "source": [
    "# train\n",
    "color_list = ['limegreen', 'blueviolet', 'orange', 'lightsteelblue']\n",
    "plt.figure(figsize=(5, 5))\n",
    "for idx, obj in enumerate(obj_list):\n",
    "    plt.scatter(train_results[obj]['gt_sp'], train_results[obj]['pr_sp'], color=color_list[idx], label=obj, alpha=0.5)\n",
    "plt.legend(fontsize='x-small', bbox_to_anchor=(1.0, 1.0))\n",
    "plt.xlabel('Ground Truth')\n",
    "plt.ylabel('Predicted Score')\n",
    "plt.xticks([-0.5, 0, 1, 1.5], labels=['', 'normal', 'abnormal', ''])\n",
    "plt.show()"
   ]
  },
  {
   "cell_type": "code",
   "execution_count": 17,
   "metadata": {},
   "outputs": [
    {
     "data": {
      "image/png": "[encoded data removed]",
      "text/plain": [
       "<Figure size 500x500 with 1 Axes>"
      ]
     },
     "metadata": {},
     "output_type": "display_data"
    }
   ],
   "source": [
    "# test \n",
    "color_list = ['limegreen', 'blueviolet', 'orange', 'lightsteelblue']\n",
    "plt.figure(figsize=(5, 5))\n",
    "for idx, obj in enumerate(obj_list):\n",
    "    plt.scatter(test_results[obj]['gt_sp'], test_results[obj]['pr_sp'], color=color_list[idx], label=obj, alpha=0.5)\n",
    "plt.legend(fontsize='x-small', bbox_to_anchor=(1.0, 1.0))\n",
    "plt.xlabel('Ground Truth')\n",
    "plt.ylabel('Predicted Score')\n",
    "plt.xticks([-0.5, 0, 1, 1.5], labels=['', 'normal', 'abnormal', ''])\n",
    "plt.show()"
   ]
  },
  {
   "cell_type": "markdown",
   "metadata": {},
   "source": [
    "##### (2) qhat"
   ]
  },
  {
   "cell_type": "code",
   "execution_count": 18,
   "metadata": {},
   "outputs": [
    {
     "data": {
      "image/png": "[encoded data removed]",
      "text/plain": [
       "<Figure size 1200x800 with 1 Axes>"
      ]
     },
     "metadata": {},
     "output_type": "display_data"
    }
   ],
   "source": [
    "plt.figure(figsize=(12, 8))\n",
    "plt.boxplot([train_qhat, train_qhat_wo_n, normal_all_qhat,  all_all_qhat])\n",
    "plt.xticks([1, 2, 3, 4 ], ['train',  'train(wo. abnormal)', 'calibration(normal)', 'calibration(all)'])\n",
    "plt.ylabel('qhat')\n",
    "plt.show()"
   ]
  },
  {
   "cell_type": "code",
   "execution_count": null,
   "metadata": {},
   "outputs": [],
   "source": []
  },
  {
   "cell_type": "markdown",
   "metadata": {},
   "source": [
    "---\n",
    "# 5. conformal p-value\n",
    "\n",
    "#### 4. Computing marginal conformal p-values"
   ]
  },
  {
   "cell_type": "code",
   "execution_count": 19,
   "metadata": {},
   "outputs": [],
   "source": [
    "from cccpv.models import ToyModel\n",
    "from cccpv.methods import ConformalPvalues\n",
    "from cccpv.methods import calibrate_ccv"
   ]
  },
  {
   "cell_type": "code",
   "execution_count": 20,
   "metadata": {},
   "outputs": [],
   "source": [
    "scores_test = 1- np.array(y_score_list)\n",
    "scores_cal = 1 - np.array(scores)\n",
    "\n",
    "scores_cal_mat = np.tile(scores_cal, (len(scores_test), 1))\n",
    "pvals_numerator = np.sum(scores_cal_mat <= scores_test.reshape(len(scores_test),1), 1) # 각 행에서 scores_test 값 보다 작은것들의 개수\n",
    "pvals_marginal = (1.0+pvals_numerator)/(1.0+len(scores_cal))"
   ]
  },
  {
   "cell_type": "code",
   "execution_count": 31,
   "metadata": {},
   "outputs": [
    {
     "data": {
      "text/plain": [
       "array([0.00199601, 0.00199601, 0.00199601, ..., 0.01596806, 0.91616766,\n",
       "       0.9241517 ])"
      ]
     },
     "execution_count": 31,
     "metadata": {},
     "output_type": "execute_result"
    }
   ],
   "source": [
    "pvals_marginal"
   ]
  },
  {
   "cell_type": "code",
   "execution_count": 22,
   "metadata": {},
   "outputs": [
    {
     "name": "stdout",
     "output_type": "stream",
     "text": [
      "[   0    1    2 ... 1003 1004 1005]\n",
      "[1. 1. 1. ... 0. 0. 0.]\n"
     ]
    }
   ],
   "source": [
    "is_outlier = np.zeros(len(scores_test))\n",
    "is_outlier[np.where(y_true_np == 1)[0]] = 1\n",
    "print(np.where(y_true_np == 1)[0])\n",
    "print(is_outlier)"
   ]
  },
  {
   "cell_type": "code",
   "execution_count": 41,
   "metadata": {},
   "outputs": [
    {
     "data": {
      "image/png": "[encoded data removed]",
      "text/plain": [
       "<Figure size 700x300 with 2 Axes>"
      ]
     },
     "metadata": {},
     "output_type": "display_data"
    }
   ],
   "source": [
    "# Histogram of marginal p-values\n",
    "fig, axs = plt.subplots(1,2, figsize=(7,3))\n",
    "fig.tight_layout()\n",
    "plt.subplots_adjust(wspace=0.3)\n",
    "\n",
    "axs[0].hist(pvals_marginal[is_outlier==0])\n",
    "axs[0].set_xlabel(\"Marginal p-value\")\n",
    "axs[0].set_ylabel(\"Frequency\")\n",
    "axs[0].title.set_text('Inliers')\n",
    "axs[0].set_xlim([0,1])\n",
    "\n",
    "axs[1].hist(pvals_marginal[is_outlier==1])\n",
    "axs[1].set_xlabel(\"Marginal p-value\")\n",
    "axs[1].set_ylabel(\"Frequency\")\n",
    "axs[1].title.set_text('Outliers')\n",
    "# axs[1].set_xlim([0,0.1])\n",
    "\n",
    "plt.show()"
   ]
  },
  {
   "cell_type": "code",
   "execution_count": 38,
   "metadata": {},
   "outputs": [
    {
     "name": "stdout",
     "output_type": "stream",
     "text": [
      "precision: 0.934\n",
      "recall: 1.0\n"
     ]
    }
   ],
   "source": [
    "pred_pvals_marginal = pvals_marginal<0.05\n",
    "\n",
    "p = precision_score(y_true_np, pred_pvals_marginal, zero_division=0)\n",
    "\n",
    "r = recall_score(y_true_np, pred_pvals_marginal, zero_division=0)\n",
    "\n",
    "print(f'precision: {round(p, 3)}\\nrecall: {round(r, 3)}')"
   ]
  },
  {
   "cell_type": "code",
   "execution_count": 44,
   "metadata": {},
   "outputs": [
    {
     "name": "stdout",
     "output_type": "stream",
     "text": [
      "정상 개수 ===> 1000 \n",
      "전체개수 ===> 2006 \n",
      "\n",
      "---10---\n",
      "precision: 0.0 \n",
      "recall: 0.0\n",
      "\n",
      "\n",
      "---15---\n",
      "precision: 0.0 \n",
      "recall: 0.0\n",
      "\n",
      "\n",
      "---20---\n",
      "precision: 0.6979 \n",
      "recall: 0.9999\n",
      "\n",
      "\n",
      "---25---\n",
      "precision: 0.6989 \n",
      "recall: 0.9999\n",
      "\n",
      "\n",
      "---30---\n",
      "precision: 0.6999 \n",
      "recall: 0.9999\n",
      "\n",
      "\n",
      "---35---\n",
      "precision: 0.7009 \n",
      "recall: 0.9999\n",
      "\n",
      "\n",
      "---40---\n",
      "precision: 0.7019 \n",
      "recall: 0.9999\n",
      "\n",
      "\n",
      "---45---\n",
      "precision: 0.7029 \n",
      "recall: 0.9999\n",
      "\n",
      "\n",
      "---50---\n",
      "precision: 0.7039 \n",
      "recall: 0.9999\n",
      "\n",
      "\n",
      "---55---\n",
      "precision: 0.7049 \n",
      "recall: 0.9999\n",
      "\n",
      "\n"
     ]
    }
   ],
   "source": [
    "y_true = []\n",
    "y_score_list = []\n",
    "for obj in obj_list:\n",
    "    y_true += (test_results[obj]['gt_sp'])\n",
    "    y_score_list += (test_results[obj]['pr_sp'] )\n",
    "\n",
    "y_true_np = np.array([t.item() for t in y_true])\n",
    "count = len(np.where(y_true_np == 0)[0])\n",
    "\n",
    "y_all = sorted(list(zip(y_true, y_score_list)))\n",
    "\n",
    "print(f'정상 개수 ===> {count} \\n전체개수 ===> {len(y_all)} \\n')\n",
    "normal_all_qhat = []\n",
    "alpha = 0.1\n",
    "\n",
    "for n in range(10, 60, 5):\n",
    "    p_list = []\n",
    "    r_list = []\n",
    "    for i in range(count-n):\n",
    "        scores_test = 1 - np.array(y_score_list)\n",
    "        scores_cal = 1 - np.array(scores)\n",
    "        scores_cal = 1-np.array(y_all[i:i + n])[:, 1]\n",
    "        \n",
    "        scores_test = 1-np.array(y_all[:i] + y_all[i + n:])[:, 1]\n",
    "        y_label = np.array(y_all[:i] + y_all[i + n:])[:, 0]\n",
    "\n",
    "        scores_cal_mat = np.tile(scores_cal, (len(scores_test), 1))\n",
    "        pvals_numerator = np.sum(scores_cal_mat <= scores_test.reshape(len(scores_test),1), 1) # 각 행에서 scores_test 값 보다 작은것들의 개수\n",
    "        pvals_marginal = (1.0+pvals_numerator)/(1.0+len(scores_cal))\n",
    "\n",
    "        y_pred = pvals_marginal < 0.05\n",
    "        p = precision_score(y_label, y_pred, zero_division=0)\n",
    "        p_list.append(p)\n",
    "\n",
    "\n",
    "        r = recall_score(y_label, y_pred, zero_division=0)\n",
    "        r_list.append(r)\n",
    "        # Histogram of marginal p-values\n",
    "        fig, axs = plt.subplots(1,2, figsize=(7,3))\n",
    "        fig.tight_layout()\n",
    "        plt.subplots_adjust(wspace=0.3)\n",
    "        plt.suptitle(f'n:{n}, i:{i}', fontsize=14)\n",
    "\n",
    "        axs[0].hist(pvals_marginal[y_label==0])\n",
    "        axs[0].set_xlabel(\"Marginal p-value\")\n",
    "        axs[0].set_ylabel(\"Frequency\")\n",
    "        axs[0].title.set_text('Inliers')\n",
    "        axs[0].set_xlim([0,1])\n",
    "\n",
    "        axs[1].hist(pvals_marginal[y_label==1])\n",
    "        axs[1].set_xlabel(\"Marginal p-value\")\n",
    "        axs[1].set_ylabel(\"Frequency\")\n",
    "        axs[1].title.set_text('Outliers')\n",
    "        axs[1].set_xlim([0,1])\n",
    "        \n",
    "        plt.savefig(f'./cal_p_medical/n_{n}_i_{i}.png', bbox_inches='tight', dpi=300)\n",
    "        plt.close()\n",
    "\n",
    "    print(f'---{n}---')\n",
    "    # print(f'score_list\\n{len(score_list)}\\n')\n",
    "    # print('q_hat 개수', len(normal_all_qhat))\n",
    "    # print('p_list', len(p_list))\n",
    "    # print('y_true', len(y_true))\n",
    "    print(f'precision: {round(sum(p_list)/len(p_list), 4)} \\nrecall: {round(sum(r_list)/len(r_list), 4)}\\n\\n')"
   ]
  },
  {
   "cell_type": "markdown",
   "metadata": {},
   "source": [
    "##### Benjamini-Hochberg "
   ]
  },
  {
   "cell_type": "code",
   "execution_count": 43,
   "metadata": {},
   "outputs": [
    {
     "data": {
      "image/png": "[encoded data removed]",
      "text/plain": [
       "<Figure size 700x300 with 2 Axes>"
      ]
     },
     "metadata": {},
     "output_type": "display_data"
    }
   ],
   "source": [
    "pvals_marginal_sorted = np.sort(pvals_marginal)\n",
    "m = len(pvals_marginal)\n",
    "\n",
    "pvals_marginal_bh = np.minimum(1, pvals_marginal_sorted * (m / np.arange(1, m + 1)))\n",
    "# pvals_marginal_bh = pvals_marginal_sorted * (m / np.arange(1, m + 1))\n",
    "\n",
    "pvals_marginal_bh_full = np.empty_like(pvals_marginal)\n",
    "pvals_marginal_bh_full[np.argsort(pvals_marginal)] = pvals_marginal_bh\n",
    "\n",
    "# Histogram of marginal p-values\n",
    "fig, axs = plt.subplots(1,2, figsize=(7,3))\n",
    "fig.tight_layout()\n",
    "plt.subplots_adjust(wspace=0.3)\n",
    "\n",
    "axs[0].hist(pvals_marginal_bh_full[is_outlier==0])\n",
    "axs[0].set_xlabel(\"BH p-value\")\n",
    "axs[0].set_ylabel(\"Frequency\")\n",
    "axs[0].title.set_text('Inliers')\n",
    "axs[0].set_xlim([0,1])\n",
    "\n",
    "axs[1].hist(pvals_marginal_bh_full[is_outlier==1])\n",
    "axs[1].set_xlabel(\"BH p-value\")\n",
    "axs[1].set_ylabel(\"Frequency\")\n",
    "axs[1].title.set_text('Outliers')\n",
    "# axs[1].set_xlim([0,1])\n",
    "\n",
    "plt.show()"
   ]
  },
  {
   "cell_type": "code",
   "execution_count": 40,
   "metadata": {},
   "outputs": [
    {
     "name": "stdout",
     "output_type": "stream",
     "text": [
      "precision: 0.95\n",
      "recall: 0.919\n"
     ]
    }
   ],
   "source": [
    "pred_marginal_bh_full = pvals_marginal_bh_full<0.05\n",
    "\n",
    "p = precision_score(y_true_np, pred_marginal_bh_full, zero_division=0)\n",
    "\n",
    "r = recall_score(y_true_np, pred_marginal_bh_full, zero_division=0)\n",
    "\n",
    "print(f'precision: {round(p, 3)}\\nrecall: {round(r, 3)}')"
   ]
  },
  {
   "cell_type": "code",
   "execution_count": 45,
   "metadata": {},
   "outputs": [
    {
     "name": "stdout",
     "output_type": "stream",
     "text": [
      "정상 개수 ===> 1000 \n",
      "전체개수 ===> 2006 \n",
      "\n",
      "---10---\n",
      "precision: 0.0 \n",
      "recall: 0.0\n",
      "\n",
      "\n",
      "---15---\n",
      "precision: 0.0 \n",
      "recall: 0.0\n",
      "\n",
      "\n",
      "---20---\n",
      "precision: 0.0 \n",
      "recall: 0.0\n",
      "\n",
      "\n",
      "---25---\n",
      "precision: 0.0073 \n",
      "recall: 0.0025\n",
      "\n",
      "\n",
      "---30---\n",
      "precision: 0.026 \n",
      "recall: 0.0091\n",
      "\n",
      "\n",
      "---35---\n",
      "precision: 0.0553 \n",
      "recall: 0.0159\n",
      "\n",
      "\n",
      "---40---\n",
      "precision: 0.1491 \n",
      "recall: 0.0466\n",
      "\n",
      "\n",
      "---45---\n",
      "precision: 0.3178 \n",
      "recall: 0.153\n",
      "\n",
      "\n",
      "---50---\n",
      "precision: 0.4032 \n",
      "recall: 0.2374\n",
      "\n",
      "\n",
      "---55---\n",
      "precision: 0.4583 \n",
      "recall: 0.308\n",
      "\n",
      "\n"
     ]
    }
   ],
   "source": [
    "y_true = []\n",
    "y_score_list = []\n",
    "for obj in obj_list:\n",
    "    y_true += (test_results[obj]['gt_sp'])\n",
    "    y_score_list += (test_results[obj]['pr_sp'] )\n",
    "\n",
    "y_true_np = np.array([t.item() for t in y_true])\n",
    "count = len(np.where(y_true_np == 0)[0])\n",
    "\n",
    "y_all = sorted(list(zip(y_true, y_score_list)))\n",
    "\n",
    "print(f'정상 개수 ===> {count} \\n전체개수 ===> {len(y_all)} \\n')\n",
    "normal_all_qhat = []\n",
    "alpha = 0.1\n",
    "\n",
    "for n in range(10, 60, 5):\n",
    "    p_list = []\n",
    "    r_list = []\n",
    "    for i in range(count-n):\n",
    "        scores_test = 1 - np.array(y_score_list)\n",
    "        scores_cal = 1 - np.array(scores)\n",
    "        scores_cal = 1-np.array(y_all[i:i + n])[:, 1]\n",
    "        \n",
    "        scores_test = 1-np.array(y_all[:i] + y_all[i + n:])[:, 1]\n",
    "        y_label = np.array(y_all[:i] + y_all[i + n:])[:, 0]\n",
    "\n",
    "        scores_cal_mat = np.tile(scores_cal, (len(scores_test), 1))\n",
    "        pvals_numerator = np.sum(scores_cal_mat <= scores_test.reshape(len(scores_test),1), 1) # 각 행에서 scores_test 값 보다 작은것들의 개수\n",
    "        pvals_marginal = (1.0+pvals_numerator)/(1.0+len(scores_cal))\n",
    "\n",
    "        pvals_marginal_sorted = np.sort(pvals_marginal)\n",
    "        m = len(pvals_marginal)\n",
    "\n",
    "        pvals_marginal_bh = np.minimum(1, pvals_marginal_sorted * (m / np.arange(1, m + 1)))\n",
    "        # pvals_marginal_bh = pvals_marginal_sorted * (m / np.arange(1, m + 1))\n",
    "\n",
    "        pvals_marginal_bh_full = np.empty_like(pvals_marginal)\n",
    "        pvals_marginal_bh_full[np.argsort(pvals_marginal)] = pvals_marginal_bh\n",
    "\n",
    "        y_pred = pvals_marginal_bh_full < 0.05\n",
    "        p = precision_score(y_label, y_pred, zero_division=0)\n",
    "        p_list.append(p)\n",
    "\n",
    "\n",
    "        r = recall_score(y_label, y_pred, zero_division=0)\n",
    "        r_list.append(r)\n",
    "        # Histogram of marginal p-values\n",
    "        fig, axs = plt.subplots(1,2, figsize=(7,3))\n",
    "        fig.tight_layout()\n",
    "        plt.subplots_adjust(wspace=0.3)\n",
    "        plt.suptitle(f'n:{n}, i:{i}', fontsize=14)\n",
    "\n",
    "        axs[0].hist(pvals_marginal_bh_full[y_label==0])\n",
    "        axs[0].set_xlabel(\"BH p-value\")\n",
    "        axs[0].set_ylabel(\"Frequency\")\n",
    "        axs[0].title.set_text('Inliers')\n",
    "        axs[0].set_xlim([0,1])\n",
    "\n",
    "        axs[1].hist(pvals_marginal_bh_full[y_label==1])\n",
    "        axs[1].set_xlabel(\"BH p-value\")\n",
    "        axs[1].set_ylabel(\"Frequency\")\n",
    "        axs[1].title.set_text('Outliers')\n",
    "        axs[1].set_xlim([0,1])\n",
    "        \n",
    "        plt.savefig(f'./bh_p_medical/n_{n}_i_{i}.png', bbox_inches='tight', dpi=300)\n",
    "        plt.close()\n",
    "\n",
    "    print(f'---{n}---')\n",
    "    # print(f'score_list\\n{len(score_list)}\\n')\n",
    "    # print('q_hat 개수', len(normal_all_qhat))\n",
    "    # print('p_list', len(p_list))\n",
    "    # print('y_true', len(y_true))\n",
    "    print(f'precision: {round(sum(p_list)/len(p_list), 4)} \\nrecall: {round(sum(r_list)/len(r_list), 4)}\\n\\n')"
   ]
  },
  {
   "cell_type": "markdown",
   "metadata": {},
   "source": [
    "#### 6. Numerical experiments\n"
   ]
  },
  {
   "cell_type": "code",
   "execution_count": 26,
   "metadata": {},
   "outputs": [],
   "source": [
    "# from utils_experiments import evaluate_all_methods\n",
    "\n",
    "# def run_experiment(model, method_oneclass, alpha=0.1, random_state=2021, purity=0.9, num_test=10):   \n",
    "#     # Sample training data\n",
    "#     data, _ = model.sample(n, random_state=random_state)\n",
    "\n",
    "#     # Initialize the one-class classifier\n",
    "#     contamination = 0.001\n",
    "#     contamination = min(max(contamination,0.004),0.1)\n",
    "#     if method_oneclass == \"SVM\":\n",
    "#         classifier = svm.OneClassSVM(nu=contamination, kernel=\"rbf\", gamma=0.1)\n",
    "#     if method_oneclass == \"IForest\":\n",
    "#         classifier = IsolationForest(random_state=random_state, contamination=contamination, behaviour=\"new\")\n",
    "#     if method_oneclass == \"Neighbors\":\n",
    "#         classifier = LocalOutlierFactor(novelty=True, contamination=contamination)\n",
    "        \n",
    "#     # Calibrate the conformal classifier\n",
    "#     cc = ConformalPvalues(data, classifier, calib_size=0.5, delta = 0.05, random_state=random_state)\n",
    "\n",
    "#     # Evaluate performance on test data\n",
    "#     results = pd.DataFrame({})\n",
    "#     for test_index in range(num_test):\n",
    "#         # Sample test data\n",
    "#         random_state_new = random_state + 10000 * test_index\n",
    "#         data_test, is_outlier = model.sample(n, purity=purity, random_state=random_state_new)\n",
    "        \n",
    "#         # Compute p-values on test data\n",
    "#         pvals_one_class = cc.predict(data_test, simes_kden=2)\n",
    "\n",
    "#         # Evaluate performance\n",
    "#         res = evaluate_all_methods(pvals_one_class, is_outlier, alpha=alpha)\n",
    "\n",
    "#         # Store results\n",
    "#         res['Amplitude'] = model.a\n",
    "#         res['Data-index'] = random_state\n",
    "#         res['Test-index'] = test_index\n",
    "#         results = pd.concat([results, res])\n",
    "    \n",
    "#     return results"
   ]
  },
  {
   "cell_type": "code",
   "execution_count": 27,
   "metadata": {},
   "outputs": [],
   "source": [
    "# num_data = 100 # Number of data sets to simulate\n",
    "# num_test = 10  # Number of test sets to simulate for each data set\n",
    "# purity = 0.9   # Proportion of outliers in test data\n",
    "# a = 2.5        # Outlier signal strength\n",
    "\n",
    "# # Initialize data model\n",
    "# model = ToyModel(p, a)\n",
    "\n",
    "# # Choose a one-class classifier algorithm\n",
    "# method_oneclass = \"SVM\"\n",
    "\n",
    "# # Run all the experiments\n",
    "# results = pd.DataFrame({})\n",
    "# for train_index in tqdm(range(num_data)):\n",
    "#     res = run_experiment(model, method_oneclass, random_state=train_index, purity=purity, num_test=num_test)\n",
    "#     results = pd.concat([results, res])"
   ]
  },
  {
   "cell_type": "code",
   "execution_count": null,
   "metadata": {},
   "outputs": [],
   "source": []
  }
 ],
 "metadata": {
  "kernelspec": {
   "display_name": "drct",
   "language": "python",
   "name": "python3"
  },
  "language_info": {
   "codemirror_mode": {
    "name": "ipython",
    "version": 3
   },
   "file_extension": ".py",
   "mimetype": "text/x-python",
   "name": "python",
   "nbconvert_exporter": "python",
   "pygments_lexer": "ipython3",
   "version": "3.8.19"
  }
 },
 "nbformat": 4,
 "nbformat_minor": 2
}
